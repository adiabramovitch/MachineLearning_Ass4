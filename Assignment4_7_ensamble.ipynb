{
  "nbformat": 4,
  "nbformat_minor": 0,
  "metadata": {
    "colab": {
      "provenance": []
    },
    "kernelspec": {
      "name": "python3",
      "display_name": "Python 3"
    },
    "language_info": {
      "name": "python"
    }
  },
  "cells": [
    {
      "cell_type": "code",
      "execution_count": 2,
      "metadata": {
        "id": "23MGQ7MTk_bw",
        "colab": {
          "base_uri": "https://localhost:8080/"
        },
        "outputId": "58ca5e73-2fc3-4a72-8223-76ba668103e2"
      },
      "outputs": [
        {
          "output_type": "stream",
          "name": "stdout",
          "text": [
            "Requirement already satisfied: wandb in /usr/local/lib/python3.10/dist-packages (0.15.4)\n",
            "Requirement already satisfied: Click!=8.0.0,>=7.0 in /usr/local/lib/python3.10/dist-packages (from wandb) (8.1.3)\n",
            "Requirement already satisfied: GitPython!=3.1.29,>=1.0.0 in /usr/local/lib/python3.10/dist-packages (from wandb) (3.1.31)\n",
            "Requirement already satisfied: requests<3,>=2.0.0 in /usr/local/lib/python3.10/dist-packages (from wandb) (2.27.1)\n",
            "Requirement already satisfied: psutil>=5.0.0 in /usr/local/lib/python3.10/dist-packages (from wandb) (5.9.5)\n",
            "Requirement already satisfied: sentry-sdk>=1.0.0 in /usr/local/lib/python3.10/dist-packages (from wandb) (1.26.0)\n",
            "Requirement already satisfied: docker-pycreds>=0.4.0 in /usr/local/lib/python3.10/dist-packages (from wandb) (0.4.0)\n",
            "Requirement already satisfied: PyYAML in /usr/local/lib/python3.10/dist-packages (from wandb) (6.0)\n",
            "Requirement already satisfied: pathtools in /usr/local/lib/python3.10/dist-packages (from wandb) (0.1.2)\n",
            "Requirement already satisfied: setproctitle in /usr/local/lib/python3.10/dist-packages (from wandb) (1.3.2)\n",
            "Requirement already satisfied: setuptools in /usr/local/lib/python3.10/dist-packages (from wandb) (67.7.2)\n",
            "Requirement already satisfied: appdirs>=1.4.3 in /usr/local/lib/python3.10/dist-packages (from wandb) (1.4.4)\n",
            "Requirement already satisfied: protobuf!=4.21.0,<5,>=3.19.0 in /usr/local/lib/python3.10/dist-packages (from wandb) (3.20.3)\n",
            "Requirement already satisfied: six>=1.4.0 in /usr/local/lib/python3.10/dist-packages (from docker-pycreds>=0.4.0->wandb) (1.16.0)\n",
            "Requirement already satisfied: gitdb<5,>=4.0.1 in /usr/local/lib/python3.10/dist-packages (from GitPython!=3.1.29,>=1.0.0->wandb) (4.0.10)\n",
            "Requirement already satisfied: urllib3<1.27,>=1.21.1 in /usr/local/lib/python3.10/dist-packages (from requests<3,>=2.0.0->wandb) (1.26.16)\n",
            "Requirement already satisfied: certifi>=2017.4.17 in /usr/local/lib/python3.10/dist-packages (from requests<3,>=2.0.0->wandb) (2023.5.7)\n",
            "Requirement already satisfied: charset-normalizer~=2.0.0 in /usr/local/lib/python3.10/dist-packages (from requests<3,>=2.0.0->wandb) (2.0.12)\n",
            "Requirement already satisfied: idna<4,>=2.5 in /usr/local/lib/python3.10/dist-packages (from requests<3,>=2.0.0->wandb) (3.4)\n",
            "Requirement already satisfied: smmap<6,>=3.0.1 in /usr/local/lib/python3.10/dist-packages (from gitdb<5,>=4.0.1->GitPython!=3.1.29,>=1.0.0->wandb) (5.0.0)\n"
          ]
        }
      ],
      "source": [
        "!pip install wandb\n",
        "\n",
        "import pandas as pd\n",
        "import utils"
      ]
    },
    {
      "cell_type": "markdown",
      "source": [
        "a. Select one dataset (you can choose any of one of your three datasets)\n"
      ],
      "metadata": {
        "id": "LZ3CdsAboOxJ"
      }
    },
    {
      "cell_type": "code",
      "source": [
        "df = pd.read_csv(\"Preprocessed data - Heart Failure\", index_col=0)\n",
        "# df = pd.read_csv(\"Preprocessed data - Apartments for Rent Dataset\", index_col=0)\n",
        "# df = pd.read_csv(\"Preprocessed data - TV News Channel Commercial Detection Dataset\", header=None)\n",
        "df.head()"
      ],
      "metadata": {
        "colab": {
          "base_uri": "https://localhost:8080/",
          "height": 270
        },
        "id": "qgIioRq5nUC0",
        "outputId": "636aef01-8ba5-4849-dffe-0a845875c111"
      },
      "execution_count": 3,
      "outputs": [
        {
          "output_type": "execute_result",
          "data": {
            "text/plain": [
              "        age  creatinine_phosphokinase  ejection_fraction     platelets  \\\n",
              "0  1.192945                  0.000166          -1.530560  1.681648e-02   \n",
              "1 -0.491279                  7.514640          -0.007077  7.535660e-09   \n",
              "2  0.350833                 -0.449939          -1.530560 -1.038073e+00   \n",
              "3 -0.912335                 -0.486071          -1.530560 -5.464741e-01   \n",
              "4  0.350833                 -0.435486          -1.530560  6.517986e-01   \n",
              "\n",
              "   serum_creatinine  serum_sodium      time  anaemia  diabetes  \\\n",
              "0          0.490057     -1.504036 -1.629502        0         0   \n",
              "1         -0.284552     -0.141976 -1.603691        0         0   \n",
              "2         -0.090900     -1.731046 -1.590785        0         0   \n",
              "3          0.490057      0.085034 -1.590785        1         0   \n",
              "4          1.264666     -4.682176 -1.577879        1         1   \n",
              "\n",
              "   high_blood_pressure  sex  smoking  ground_truth  \n",
              "0                    1    1        0             1  \n",
              "1                    0    1        0             1  \n",
              "2                    0    1        1             1  \n",
              "3                    0    1        0             1  \n",
              "4                    0    0        0             1  "
            ],
            "text/html": [
              "\n",
              "  <div id=\"df-edcf6427-9130-4586-8190-06b9a4ea6af7\">\n",
              "    <div class=\"colab-df-container\">\n",
              "      <div>\n",
              "<style scoped>\n",
              "    .dataframe tbody tr th:only-of-type {\n",
              "        vertical-align: middle;\n",
              "    }\n",
              "\n",
              "    .dataframe tbody tr th {\n",
              "        vertical-align: top;\n",
              "    }\n",
              "\n",
              "    .dataframe thead th {\n",
              "        text-align: right;\n",
              "    }\n",
              "</style>\n",
              "<table border=\"1\" class=\"dataframe\">\n",
              "  <thead>\n",
              "    <tr style=\"text-align: right;\">\n",
              "      <th></th>\n",
              "      <th>age</th>\n",
              "      <th>creatinine_phosphokinase</th>\n",
              "      <th>ejection_fraction</th>\n",
              "      <th>platelets</th>\n",
              "      <th>serum_creatinine</th>\n",
              "      <th>serum_sodium</th>\n",
              "      <th>time</th>\n",
              "      <th>anaemia</th>\n",
              "      <th>diabetes</th>\n",
              "      <th>high_blood_pressure</th>\n",
              "      <th>sex</th>\n",
              "      <th>smoking</th>\n",
              "      <th>ground_truth</th>\n",
              "    </tr>\n",
              "  </thead>\n",
              "  <tbody>\n",
              "    <tr>\n",
              "      <th>0</th>\n",
              "      <td>1.192945</td>\n",
              "      <td>0.000166</td>\n",
              "      <td>-1.530560</td>\n",
              "      <td>1.681648e-02</td>\n",
              "      <td>0.490057</td>\n",
              "      <td>-1.504036</td>\n",
              "      <td>-1.629502</td>\n",
              "      <td>0</td>\n",
              "      <td>0</td>\n",
              "      <td>1</td>\n",
              "      <td>1</td>\n",
              "      <td>0</td>\n",
              "      <td>1</td>\n",
              "    </tr>\n",
              "    <tr>\n",
              "      <th>1</th>\n",
              "      <td>-0.491279</td>\n",
              "      <td>7.514640</td>\n",
              "      <td>-0.007077</td>\n",
              "      <td>7.535660e-09</td>\n",
              "      <td>-0.284552</td>\n",
              "      <td>-0.141976</td>\n",
              "      <td>-1.603691</td>\n",
              "      <td>0</td>\n",
              "      <td>0</td>\n",
              "      <td>0</td>\n",
              "      <td>1</td>\n",
              "      <td>0</td>\n",
              "      <td>1</td>\n",
              "    </tr>\n",
              "    <tr>\n",
              "      <th>2</th>\n",
              "      <td>0.350833</td>\n",
              "      <td>-0.449939</td>\n",
              "      <td>-1.530560</td>\n",
              "      <td>-1.038073e+00</td>\n",
              "      <td>-0.090900</td>\n",
              "      <td>-1.731046</td>\n",
              "      <td>-1.590785</td>\n",
              "      <td>0</td>\n",
              "      <td>0</td>\n",
              "      <td>0</td>\n",
              "      <td>1</td>\n",
              "      <td>1</td>\n",
              "      <td>1</td>\n",
              "    </tr>\n",
              "    <tr>\n",
              "      <th>3</th>\n",
              "      <td>-0.912335</td>\n",
              "      <td>-0.486071</td>\n",
              "      <td>-1.530560</td>\n",
              "      <td>-5.464741e-01</td>\n",
              "      <td>0.490057</td>\n",
              "      <td>0.085034</td>\n",
              "      <td>-1.590785</td>\n",
              "      <td>1</td>\n",
              "      <td>0</td>\n",
              "      <td>0</td>\n",
              "      <td>1</td>\n",
              "      <td>0</td>\n",
              "      <td>1</td>\n",
              "    </tr>\n",
              "    <tr>\n",
              "      <th>4</th>\n",
              "      <td>0.350833</td>\n",
              "      <td>-0.435486</td>\n",
              "      <td>-1.530560</td>\n",
              "      <td>6.517986e-01</td>\n",
              "      <td>1.264666</td>\n",
              "      <td>-4.682176</td>\n",
              "      <td>-1.577879</td>\n",
              "      <td>1</td>\n",
              "      <td>1</td>\n",
              "      <td>0</td>\n",
              "      <td>0</td>\n",
              "      <td>0</td>\n",
              "      <td>1</td>\n",
              "    </tr>\n",
              "  </tbody>\n",
              "</table>\n",
              "</div>\n",
              "      <button class=\"colab-df-convert\" onclick=\"convertToInteractive('df-edcf6427-9130-4586-8190-06b9a4ea6af7')\"\n",
              "              title=\"Convert this dataframe to an interactive table.\"\n",
              "              style=\"display:none;\">\n",
              "        \n",
              "  <svg xmlns=\"http://www.w3.org/2000/svg\" height=\"24px\"viewBox=\"0 0 24 24\"\n",
              "       width=\"24px\">\n",
              "    <path d=\"M0 0h24v24H0V0z\" fill=\"none\"/>\n",
              "    <path d=\"M18.56 5.44l.94 2.06.94-2.06 2.06-.94-2.06-.94-.94-2.06-.94 2.06-2.06.94zm-11 1L8.5 8.5l.94-2.06 2.06-.94-2.06-.94L8.5 2.5l-.94 2.06-2.06.94zm10 10l.94 2.06.94-2.06 2.06-.94-2.06-.94-.94-2.06-.94 2.06-2.06.94z\"/><path d=\"M17.41 7.96l-1.37-1.37c-.4-.4-.92-.59-1.43-.59-.52 0-1.04.2-1.43.59L10.3 9.45l-7.72 7.72c-.78.78-.78 2.05 0 2.83L4 21.41c.39.39.9.59 1.41.59.51 0 1.02-.2 1.41-.59l7.78-7.78 2.81-2.81c.8-.78.8-2.07 0-2.86zM5.41 20L4 18.59l7.72-7.72 1.47 1.35L5.41 20z\"/>\n",
              "  </svg>\n",
              "      </button>\n",
              "      \n",
              "  <style>\n",
              "    .colab-df-container {\n",
              "      display:flex;\n",
              "      flex-wrap:wrap;\n",
              "      gap: 12px;\n",
              "    }\n",
              "\n",
              "    .colab-df-convert {\n",
              "      background-color: #E8F0FE;\n",
              "      border: none;\n",
              "      border-radius: 50%;\n",
              "      cursor: pointer;\n",
              "      display: none;\n",
              "      fill: #1967D2;\n",
              "      height: 32px;\n",
              "      padding: 0 0 0 0;\n",
              "      width: 32px;\n",
              "    }\n",
              "\n",
              "    .colab-df-convert:hover {\n",
              "      background-color: #E2EBFA;\n",
              "      box-shadow: 0px 1px 2px rgba(60, 64, 67, 0.3), 0px 1px 3px 1px rgba(60, 64, 67, 0.15);\n",
              "      fill: #174EA6;\n",
              "    }\n",
              "\n",
              "    [theme=dark] .colab-df-convert {\n",
              "      background-color: #3B4455;\n",
              "      fill: #D2E3FC;\n",
              "    }\n",
              "\n",
              "    [theme=dark] .colab-df-convert:hover {\n",
              "      background-color: #434B5C;\n",
              "      box-shadow: 0px 1px 3px 1px rgba(0, 0, 0, 0.15);\n",
              "      filter: drop-shadow(0px 1px 2px rgba(0, 0, 0, 0.3));\n",
              "      fill: #FFFFFF;\n",
              "    }\n",
              "  </style>\n",
              "\n",
              "      <script>\n",
              "        const buttonEl =\n",
              "          document.querySelector('#df-edcf6427-9130-4586-8190-06b9a4ea6af7 button.colab-df-convert');\n",
              "        buttonEl.style.display =\n",
              "          google.colab.kernel.accessAllowed ? 'block' : 'none';\n",
              "\n",
              "        async function convertToInteractive(key) {\n",
              "          const element = document.querySelector('#df-edcf6427-9130-4586-8190-06b9a4ea6af7');\n",
              "          const dataTable =\n",
              "            await google.colab.kernel.invokeFunction('convertToInteractive',\n",
              "                                                     [key], {});\n",
              "          if (!dataTable) return;\n",
              "\n",
              "          const docLinkHtml = 'Like what you see? Visit the ' +\n",
              "            '<a target=\"_blank\" href=https://colab.research.google.com/notebooks/data_table.ipynb>data table notebook</a>'\n",
              "            + ' to learn more about interactive tables.';\n",
              "          element.innerHTML = '';\n",
              "          dataTable['output_type'] = 'display_data';\n",
              "          await google.colab.output.renderOutput(dataTable, element);\n",
              "          const docLink = document.createElement('div');\n",
              "          docLink.innerHTML = docLinkHtml;\n",
              "          element.appendChild(docLink);\n",
              "        }\n",
              "      </script>\n",
              "    </div>\n",
              "  </div>\n",
              "  "
            ]
          },
          "metadata": {},
          "execution_count": 3
        }
      ]
    },
    {
      "cell_type": "markdown",
      "source": [
        "b. For every algorithm (other than k-means) select the run with the hyper-parameter setting that creates the most similar number of clusters as the one found in question 5 above."
      ],
      "metadata": {
        "id": "op5vt1wUoLR4"
      }
    },
    {
      "cell_type": "code",
      "source": [
        "# Heart Failure\n",
        "from sklearn.cluster import KMeans, DBSCAN, OPTICS, AgglomerativeClustering\n",
        "\n",
        "X = df.iloc[:, :-1]\n",
        "optimal_k = 2\n",
        "kmeans = KMeans(n_clusters=optimal_k)\n",
        "kmeans_labels = kmeans.fit_predict(X)\n",
        "# Agglomerative hyper-parameter: n_clusters\n",
        "n_clusters = optimal_k\n",
        "agglo = AgglomerativeClustering(n_clusters=n_clusters)\n",
        "agg_labels = agglo.fit_predict(X)\n",
        "# OPTICS hyper_parameter: min_samples\n",
        "min_samples = 7\n",
        "optics = OPTICS(min_samples=min_samples)\n",
        "opt_labels = optics.fit_predict(X)\n",
        "# dbscan hyper_parameter: epsilon\n",
        "eps = 1.3\n",
        "dbscan = DBSCAN(eps=eps)\n",
        "db_labels = dbscan.fit_predict(X)"
      ],
      "metadata": {
        "colab": {
          "base_uri": "https://localhost:8080/"
        },
        "id": "lmCsVYoSo5cV",
        "outputId": "23dd58ef-cb01-48e4-a948-19d599b0cfdc"
      },
      "execution_count": 4,
      "outputs": [
        {
          "output_type": "stream",
          "name": "stderr",
          "text": [
            "/usr/local/lib/python3.10/dist-packages/sklearn/cluster/_kmeans.py:870: FutureWarning: The default value of `n_init` will change from 10 to 'auto' in 1.4. Set the value of `n_init` explicitly to suppress the warning\n",
            "  warnings.warn(\n"
          ]
        }
      ]
    },
    {
      "cell_type": "code",
      "source": [
        "# # TV Channels networks\n",
        "# from sklearn.cluster import KMeans, DBSCAN, OPTICS, AgglomerativeClustering\n",
        "\n",
        "# df_sampled = df.groupby(10, group_keys=False).apply(lambda x: x.sample(frac=0.33, random_state=42))\n",
        "# X = df_sampled.iloc[:, :-1]\n",
        "# optimal_k = 2\n",
        "# kmeans = KMeans(n_clusters=optimal_k)\n",
        "# kmeans_labels = kmeans.fit_predict(X)\n",
        "# # Agglomerative hyper-parameter: n_clusters\n",
        "# n_clusters = optimal_k\n",
        "# agglo = AgglomerativeClustering(n_clusters=n_clusters)\n",
        "# agg_labels = agglo.fit_predict(X)\n",
        "# # OPTICS hyper_parameter: min_samples\n",
        "# min_samples = 70\n",
        "# optics = OPTICS(min_samples=min_samples)\n",
        "# opt_labels = optics.fit_predict(X)\n",
        "# # dbscan hyper_parameter: epsilon\n",
        "# eps = 0.1\n",
        "# dbscan = DBSCAN(eps=eps)\n",
        "# db_labels = dbscan.fit_predict(X)"
      ],
      "metadata": {
        "colab": {
          "base_uri": "https://localhost:8080/"
        },
        "id": "DD-1e_oZmatW",
        "outputId": "2bb867cc-39bc-4a82-adc8-3f8b0f13c8c2"
      },
      "execution_count": 24,
      "outputs": [
        {
          "output_type": "stream",
          "name": "stderr",
          "text": [
            "/usr/local/lib/python3.10/dist-packages/sklearn/cluster/_kmeans.py:870: FutureWarning: The default value of `n_init` will change from 10 to 'auto' in 1.4. Set the value of `n_init` explicitly to suppress the warning\n",
            "  warnings.warn(\n"
          ]
        }
      ]
    },
    {
      "cell_type": "markdown",
      "source": [
        "c. Compare the selected clustering results using the adjusted rand index and comparison matrix (4 X 4) using clustering heat-map"
      ],
      "metadata": {
        "id": "OedL16qVry2D"
      }
    },
    {
      "cell_type": "code",
      "source": [
        "from sklearn.metrics import adjusted_rand_score\n",
        "import numpy as np\n",
        "\n",
        "comparison_matrix = np.zeros((4, 4))\n",
        "\n",
        "algo_label_pairs = (('KMeans', kmeans_labels), ('DBSCAN', db_labels),\n",
        " ('Agglomerative', agg_labels), ('OPTICS', opt_labels))\n",
        "\n",
        "for i, (algorithm_i, algo_labels_i) in enumerate(algo_label_pairs):\n",
        "    for j, (algorithm_j, algo_labels_j) in enumerate(algo_label_pairs):\n",
        "        comparison_matrix[i, j] = adjusted_rand_score(algo_labels_i, algo_labels_j )\n",
        "\n",
        "comparison_matrix"
      ],
      "metadata": {
        "id": "ygm1DkOahfcS",
        "colab": {
          "base_uri": "https://localhost:8080/"
        },
        "outputId": "92ee9d93-8daa-4a81-cdd8-7ebb613a23df"
      },
      "execution_count": 5,
      "outputs": [
        {
          "output_type": "execute_result",
          "data": {
            "text/plain": [
              "array([[ 1.        , -0.0020313 ,  0.26458723, -0.00697191],\n",
              "       [-0.0020313 ,  1.        , -0.02648125, -0.02703683],\n",
              "       [ 0.26458723, -0.02648125,  1.        , -0.05456507],\n",
              "       [-0.00697191, -0.02703683, -0.05456507,  1.        ]])"
            ]
          },
          "metadata": {},
          "execution_count": 5
        }
      ]
    },
    {
      "cell_type": "code",
      "source": [
        "from seaborn import clustermap\n",
        "import matplotlib.pyplot as plt\n",
        "\n",
        "algo_names = [name for name, _ in algo_label_pairs]\n",
        "clustermap(comparison_matrix, annot=True, cmap=\"coolwarm\",\n",
        "           xticklabels=algo_names,\n",
        "           yticklabels=algo_names)\n",
        "plt.show()"
      ],
      "metadata": {
        "colab": {
          "base_uri": "https://localhost:8080/",
          "height": 1000
        },
        "id": "2zDBKbAMn2XN",
        "outputId": "4337793b-c15c-4cb4-bf56-d5af0381c6c8"
      },
      "execution_count": 6,
      "outputs": [
        {
          "output_type": "display_data",
          "data": {
            "text/plain": [
              "<Figure size 1000x1000 with 4 Axes>"
            ],
            "image/png": "[encoded data removed]"
          },
          "metadata": {}
        }
      ]
    },
    {
      "cell_type": "markdown",
      "source": [
        "According to the ARI results there is a weak correlation between the clustering results of the Agglomerative algorithm and the optimal KMeans solution. DBScan and OPTICS algorithms have no correlation between their clustering results and the results of other models"
      ],
      "metadata": {
        "id": "buSxm0MgihMP"
      }
    },
    {
      "cell_type": "markdown",
      "source": [
        "d. For each clustering create a corresponding co-occurrence matrix based on the  cluster assignment of the samples."
      ],
      "metadata": {
        "id": "hhpCX_JA1udk"
      }
    },
    {
      "cell_type": "code",
      "source": [
        "n_samples = X.shape[0]\n",
        "co_occurrence_matrix = np.zeros((n_samples, n_samples, 3), dtype=int)\n",
        "labels = [algo_labels for _, algo_labels in algo_label_pairs]\n",
        "\n",
        "for k in range(3):\n",
        "    for i in range(n_samples):\n",
        "        for j in range(i, n_samples):\n",
        "            if labels[0][i] == labels[k+1][j]:\n",
        "                co_occurrence_matrix[i, j, k] += 1\n",
        "                co_occurrence_matrix[j, i, k] += 1"
      ],
      "metadata": {
        "id": "R1zivVsho2hR"
      },
      "execution_count": 14,
      "outputs": []
    },
    {
      "cell_type": "code",
      "source": [
        "from sklearn.preprocessing import MinMaxScaler\n",
        "\n",
        "normalized_matrices = np.zeros_like(co_occurrence_matrix, dtype=float)\n",
        "for i in range(co_occurrence_matrix.shape[2]):\n",
        "    scaler = MinMaxScaler()\n",
        "    normalized_matrices[:, :, i] = scaler.fit_transform(co_occurrence_matrix[:, :, i])"
      ],
      "metadata": {
        "id": "EM4TE7ECQxOl"
      },
      "execution_count": 15,
      "outputs": []
    },
    {
      "cell_type": "markdown",
      "source": [
        "e. Aggregate the co-occurrence matrix into one matrix (which will be used as  an affinity matrix)"
      ],
      "metadata": {
        "id": "bWBi_w9QPtVt"
      }
    },
    {
      "cell_type": "code",
      "source": [
        "affinity_matrix = np.mean(co_occurrence_matrix, axis=2)\n",
        "affinity_matrix.shape"
      ],
      "metadata": {
        "colab": {
          "base_uri": "https://localhost:8080/"
        },
        "id": "E-TmowQBCwr3",
        "outputId": "ee019925-ee7e-41d7-a6af-b6b7b6e74702"
      },
      "execution_count": 16,
      "outputs": [
        {
          "output_type": "execute_result",
          "data": {
            "text/plain": [
              "(299, 299)"
            ]
          },
          "metadata": {},
          "execution_count": 16
        }
      ]
    },
    {
      "cell_type": "markdown",
      "source": [
        "f.  Perform a meta-clustering using a clustering algorithm of your choice that can receive a precomputed affinity matrix"
      ],
      "metadata": {
        "id": "CjDvVO_xPrLJ"
      }
    },
    {
      "cell_type": "code",
      "source": [
        "from sklearn.cluster import SpectralClustering\n",
        "\n",
        "meta_labels = SpectralClustering(n_clusters=2, affinity='precomputed', random_state=42).fit_predict(affinity_matrix)\n",
        "meta_labels.shape"
      ],
      "metadata": {
        "colab": {
          "base_uri": "https://localhost:8080/"
        },
        "id": "KIGvyV9bGanO",
        "outputId": "4eb40263-ad12-4537-f6aa-9ddba6524afd"
      },
      "execution_count": 22,
      "outputs": [
        {
          "output_type": "execute_result",
          "data": {
            "text/plain": [
              "(299,)"
            ]
          },
          "metadata": {},
          "execution_count": 22
        }
      ]
    },
    {
      "cell_type": "markdown",
      "source": [
        "Repeat step c by adding the result of step f (note the comparison matrix is now 5 X 5) and report your conclusions."
      ],
      "metadata": {
        "id": "-IVtAkwiRPjs"
      }
    },
    {
      "cell_type": "code",
      "source": [
        "comparison_matrix = np.zeros((5, 5))\n",
        "\n",
        "algo_label_pairs = (('KMeans', kmeans_labels), ('DBSCAN', db_labels),\n",
        " ('Agglomerative', agg_labels), ('OPTICS', opt_labels), ('Ensamble', meta_labels))\n",
        "\n",
        "for i, (algorithm_i, algo_labels_i) in enumerate(algo_label_pairs):\n",
        "    for j, (algorithm_j, algo_labels_j) in enumerate(algo_label_pairs):\n",
        "        comparison_matrix[i, j] = adjusted_rand_score(algo_labels_i, algo_labels_j )\n",
        "\n",
        "comparison_matrix"
      ],
      "metadata": {
        "colab": {
          "base_uri": "https://localhost:8080/"
        },
        "id": "84Rl3ysjGb5-",
        "outputId": "b279c2b8-0f31-4d6d-94de-4c7387b52d24"
      },
      "execution_count": 25,
      "outputs": [
        {
          "output_type": "execute_result",
          "data": {
            "text/plain": [
              "array([[ 1.        , -0.0020313 ,  0.26458723, -0.00697191,  0.45842185],\n",
              "       [-0.0020313 ,  1.        , -0.02648125, -0.02703683, -0.009644  ],\n",
              "       [ 0.26458723, -0.02648125,  1.        , -0.05456507,  0.68646199],\n",
              "       [-0.00697191, -0.02703683, -0.05456507,  1.        , -0.02423575],\n",
              "       [ 0.45842185, -0.009644  ,  0.68646199, -0.02423575,  1.        ]])"
            ]
          },
          "metadata": {},
          "execution_count": 25
        }
      ]
    },
    {
      "cell_type": "code",
      "source": [
        "algo_names = [name for name, _ in algo_label_pairs]\n",
        "clustermap(comparison_matrix, annot=True, cmap=\"coolwarm\",\n",
        "           xticklabels=algo_names,\n",
        "           yticklabels=algo_names)\n",
        "plt.show()"
      ],
      "metadata": {
        "colab": {
          "base_uri": "https://localhost:8080/",
          "height": 1000
        },
        "id": "DVj5hkGDRZul",
        "outputId": "739b5acf-1a25-44c5-cfb3-c3f5f0e4dba2"
      },
      "execution_count": 26,
      "outputs": [
        {
          "output_type": "display_data",
          "data": {
            "text/plain": [
              "<Figure size 1000x1000 with 4 Axes>"
            ],
            "image/png": "[encoded data removed]"
          },
          "metadata": {}
        }
      ]
    },
    {
      "cell_type": "markdown",
      "source": [
        "The ensemble clustering algorithm has very strong correlation with the agglomerative results and decent correlation with the optimal KMeans clustering solution."
      ],
      "metadata": {
        "id": "qOtoUDw_UwC5"
      }
    },
    {
      "cell_type": "code",
      "source": [],
      "metadata": {
        "id": "O1T3VFYZRZ6l"
      },
      "execution_count": null,
      "outputs": []
    }
  ]
}