{
  "nbformat": 4,
  "nbformat_minor": 0,
  "metadata": {
    "colab": {
      "provenance": [],
      "toc_visible": true
    },
    "kernelspec": {
      "name": "python3",
      "display_name": "Python 3"
    },
    "language_info": {
      "name": "python"
    }
  },
  "cells": [
    {
      "cell_type": "markdown",
      "source": [
        "# **Dataset**"
      ],
      "metadata": {
        "id": "I5udt366nWVY"
      }
    },
    {
      "cell_type": "code",
      "source": [
        "!pip install py7zr -q"
      ],
      "metadata": {
        "colab": {
          "base_uri": "https://localhost:8080/"
        },
        "id": "ew8WrFm6lO3T",
        "outputId": "4382800f-bf3c-4008-9c77-befbcfebae43"
      },
      "execution_count": 1,
      "outputs": [
        {
          "output_type": "stream",
          "name": "stdout",
          "text": [
            "\u001b[2K     \u001b[90m━━━━━━━━━━━━━━━━━━━━━━━━━━━━━━━━━━━━━━━━\u001b[0m \u001b[32m66.4/66.4 kB\u001b[0m \u001b[31m3.4 MB/s\u001b[0m eta \u001b[36m0:00:00\u001b[0m\n",
            "\u001b[2K     \u001b[90m━━━━━━━━━━━━━━━━━━━━━━━━━━━━━━━━━━━━━━━━\u001b[0m \u001b[32m2.1/2.1 MB\u001b[0m \u001b[31m41.0 MB/s\u001b[0m eta \u001b[36m0:00:00\u001b[0m\n",
            "\u001b[2K     \u001b[90m━━━━━━━━━━━━━━━━━━━━━━━━━━━━━━━━━━━━━━\u001b[0m \u001b[32m399.3/399.3 kB\u001b[0m \u001b[31m32.3 MB/s\u001b[0m eta \u001b[36m0:00:00\u001b[0m\n",
            "\u001b[2K     \u001b[90m━━━━━━━━━━━━━━━━━━━━━━━━━━━━━━━━━━━━━━\u001b[0m \u001b[32m138.8/138.8 kB\u001b[0m \u001b[31m13.7 MB/s\u001b[0m eta \u001b[36m0:00:00\u001b[0m\n",
            "\u001b[2K     \u001b[90m━━━━━━━━━━━━━━━━━━━━━━━━━━━━━━━━━━━━━━━━\u001b[0m \u001b[32m49.8/49.8 kB\u001b[0m \u001b[31m4.6 MB/s\u001b[0m eta \u001b[36m0:00:00\u001b[0m\n",
            "\u001b[2K     \u001b[90m━━━━━━━━━━━━━━━━━━━━━━━━━━━━━━━━━━━━━━━━\u001b[0m \u001b[32m2.7/2.7 MB\u001b[0m \u001b[31m96.5 MB/s\u001b[0m eta \u001b[36m0:00:00\u001b[0m\n",
            "\u001b[2K     \u001b[90m━━━━━━━━━━━━━━━━━━━━━━━━━━━━━━━━━━━━━━━━\u001b[0m \u001b[32m93.1/93.1 kB\u001b[0m \u001b[31m9.4 MB/s\u001b[0m eta \u001b[36m0:00:00\u001b[0m\n",
            "\u001b[?25h"
          ]
        }
      ]
    },
    {
      "cell_type": "code",
      "execution_count": 2,
      "metadata": {
        "id": "_uqJBumdgugT"
      },
      "outputs": [],
      "source": [
        "import pandas as pd\n",
        "import numpy as np\n",
        "from urllib.request import urlretrieve\n",
        "import requests, zipfile, io, os\n",
        "import py7zr\n",
        "from sklearn.metrics import silhouette_score, calinski_harabasz_score, davies_bouldin_score\n",
        "from sklearn.cluster import KMeans\n",
        "\n",
        "dataset = \"https://archive.ics.uci.edu/static/public/555/apartment+for+rent+classified.zip\"\n",
        "\n",
        "r = requests.get(dataset)\n",
        "z = zipfile.ZipFile(io.BytesIO(r.content))\n",
        "z.extractall(\"/rent\")"
      ]
    },
    {
      "cell_type": "code",
      "source": [
        "print(os.listdir('/rent'))\n",
        "with py7zr.SevenZipFile('/rent/apartments_for_rent_classified_10K.7z', mode='r') as z:\n",
        "    z.extractall(path='/rent')"
      ],
      "metadata": {
        "colab": {
          "base_uri": "https://localhost:8080/"
        },
        "id": "MOwIjc9yiIu8",
        "outputId": "27a30511-8ec8-4c03-ad00-860c39d32008"
      },
      "execution_count": 3,
      "outputs": [
        {
          "output_type": "stream",
          "name": "stdout",
          "text": [
            "['apartments_for_rent_classified_10K.7z', 'apartments_for_rent_classified_100K.7z']\n"
          ]
        }
      ]
    },
    {
      "cell_type": "code",
      "source": [
        "df = pd.read_csv('/rent/apartments_for_rent_classified_10K.csv',sep=\";\", encoding='cp1252')\n",
        "df.info()"
      ],
      "metadata": {
        "colab": {
          "base_uri": "https://localhost:8080/"
        },
        "id": "ofzdwLqclYke",
        "outputId": "30fa55e4-767e-4a06-b23e-0056cae4ad9d"
      },
      "execution_count": 15,
      "outputs": [
        {
          "output_type": "stream",
          "name": "stdout",
          "text": [
            "<class 'pandas.core.frame.DataFrame'>\n",
            "RangeIndex: 10000 entries, 0 to 9999\n",
            "Data columns (total 22 columns):\n",
            " #   Column         Non-Null Count  Dtype  \n",
            "---  ------         --------------  -----  \n",
            " 0   id             10000 non-null  int64  \n",
            " 1   category       10000 non-null  object \n",
            " 2   title          10000 non-null  object \n",
            " 3   body           10000 non-null  object \n",
            " 4   amenities      6451 non-null   object \n",
            " 5   bathrooms      9966 non-null   float64\n",
            " 6   bedrooms       9993 non-null   float64\n",
            " 7   currency       10000 non-null  object \n",
            " 8   fee            10000 non-null  object \n",
            " 9   has_photo      10000 non-null  object \n",
            " 10  pets_allowed   8252 non-null   object \n",
            " 11  price          10000 non-null  int64  \n",
            " 12  price_display  10000 non-null  object \n",
            " 13  price_type     10000 non-null  object \n",
            " 14  square_feet    10000 non-null  int64  \n",
            " 15  address        6673 non-null   object \n",
            " 16  cityname       9923 non-null   object \n",
            " 17  state          9923 non-null   object \n",
            " 18  latitude       9990 non-null   float64\n",
            " 19  longitude      9990 non-null   float64\n",
            " 20  source         10000 non-null  object \n",
            " 21  time           10000 non-null  int64  \n",
            "dtypes: float64(4), int64(4), object(14)\n",
            "memory usage: 1.7+ MB\n"
          ]
        }
      ]
    },
    {
      "cell_type": "markdown",
      "source": [
        "#   **EDA**"
      ],
      "metadata": {
        "id": "DqbfG10tnZH2"
      }
    },
    {
      "cell_type": "code",
      "source": [
        "df.describe()\n",
        "df.shape\n",
        "print(df.columns.tolist())\n",
        "df.dtypes"
      ],
      "metadata": {
        "colab": {
          "base_uri": "https://localhost:8080/"
        },
        "id": "6gwDQOCGquhy",
        "outputId": "f68c0091-0961-4097-c27b-b62fee041eca"
      },
      "execution_count": 162,
      "outputs": [
        {
          "output_type": "stream",
          "name": "stdout",
          "text": [
            "['id', 'category', 'title', 'body', 'amenities', 'bathrooms', 'bedrooms', 'currency', 'fee', 'has_photo', 'pets_allowed', 'price', 'price_display', 'price_type', 'square_feet', 'address', 'cityname', 'state', 'latitude', 'longitude', 'source', 'time']\n"
          ]
        }
      ]
    },
    {
      "cell_type": "code",
      "source": [
        "numerical_columns = df.select_dtypes(include=['float', 'int'])\n",
        "summary_statistics = numerical_columns.describe()\n",
        "print(\"Summary Statistics:\\n\", summary_statistics)\n",
        "\n",
        "categorical_columns = df.select_dtypes(include=['object'])\n",
        "for column in categorical_columns:\n",
        "    if column != 'body' and column != 'title':\n",
        "      unique_categories = df[column].unique()\n",
        "      category_frequencies = df[column].value_counts()\n",
        "      print(f\"\\nUnique Categories in {column}:\")\n",
        "      print(unique_categories)\n",
        "      print(f\"\\nCategory Frequencies in {column}:\")\n",
        "      print(category_frequencies)"
      ],
      "metadata": {
        "id": "WM8u-IHyjl6a"
      },
      "execution_count": null,
      "outputs": []
    },
    {
      "cell_type": "code",
      "source": [
        "import pandas as pd\n",
        "import matplotlib.pyplot as plt\n",
        "import seaborn as sns\n",
        "\n",
        "# Assuming `df` is your DataFrame\n",
        "# df = df.drop(['title', 'body', 'address', 'fee', 'currency', 'category'], axis=1)\n",
        "\n",
        "# Distribution of numerical variables\n",
        "numerical_columns = df.select_dtypes(include=['float', 'int'])\n",
        "numerical_columns.hist(bins=10, figsize=(10, 8))\n",
        "plt.tight_layout()\n",
        "plt.show()\n",
        "\n",
        "# Frequency distribution of categorical variables\n",
        "categorical_columns = df.select_dtypes(include=['object'])\n",
        "for column in categorical_columns:\n",
        "    plt.figure(figsize=(10, 6))\n",
        "    category_counts = df[column].value_counts()\n",
        "    sns.barplot(x=category_counts.index, y=category_counts.values)\n",
        "    plt.xlabel(column) # Need to fix the categories\n",
        "    plt.ylabel('Frequency')\n",
        "    plt.xticks(rotation=45)\n",
        "    plt.tight_layout()\n",
        "    plt.show()\n",
        "\n",
        "# Relationship between variables using scatter plot\n",
        "plt.figure(figsize=(10, 8))\n",
        "sns.scatterplot(x='price', y='square_feet', data=df)\n",
        "plt.xlabel('Numerical Column 1')\n",
        "plt.ylabel('Numerical Column 2')\n",
        "plt.show()\n",
        "\n",
        "# Heatmap of correlation matrix\n",
        "plt.figure(figsize=(10, 8))\n",
        "correlation_matrix = df.corr()\n",
        "sns.heatmap(correlation_matrix, annot=True, cmap='coolwarm')\n",
        "plt.show()\n"
      ],
      "metadata": {
        "colab": {
          "base_uri": "https://localhost:8080/",
          "height": 696
        },
        "id": "WM-PrwwUnrIc",
        "outputId": "128f55a6-94d8-46d9-f6fd-e57d04170d1c"
      },
      "execution_count": 12,
      "outputs": [
        {
          "output_type": "display_data",
          "data": {
            "text/plain": [
              "<Figure size 1000x800 with 1 Axes>"
            ],
            "image/png": "[encoded data removed]"
          },
          "metadata": {}
        }
      ]
    },
    {
      "cell_type": "markdown",
      "source": [
        "# **2d: Format Dataset**"
      ],
      "metadata": {
        "id": "DdUfUIu1n7QB"
      }
    },
    {
      "cell_type": "code",
      "source": [
        "from sklearn.preprocessing import OneHotEncoder\n",
        "\n",
        "def transform_to_numerical_columns(df, columns):\n",
        "  df_to_encode = df[columns]\n",
        "  one_hot_encoder = OneHotEncoder(sparse=False, handle_unknown='ignore')\n",
        "  encoded_data = one_hot_encoder.fit_transform(df_to_encode)\n",
        "  encoded_columns = one_hot_encoder.get_feature_names_out(columns)\n",
        "  # Create a new DataFrame with the encoded data\n",
        "  df_encoded = pd.DataFrame(encoded_data, columns=encoded_columns)\n",
        "  # Concatenate the encoded DataFrame with the original DataFrame (excluding the columns to encode)\n",
        "  df_final = pd.concat([df.drop(columns=columns), df_encoded], axis=1)\n",
        "  return df_final\n",
        "\n",
        "def unique_values_in_column(df, column):\n",
        "  unique_values = df[column].value_counts()\n",
        "  print(unique_values)\n",
        "\n",
        "def transform_column_mapping(df, columns_mapping):\n",
        "  for column, mapping in columns_mapping.items():\n",
        "    df[column] = df[column].replace(mapping)\n",
        "    unique_values_in_column(df, column)\n",
        "  return df\n",
        "\n",
        "def find_object_columns(df):\n",
        "  object_columns = df.select_dtypes(include='object')\n",
        "  object_column_names = object_columns.columns.tolist()\n",
        "  print(object_column_names)\n",
        "\n",
        "def check_if_null_or_inf(df, column):\n",
        "  null_values = df[column].isnull().any()\n",
        "  inf_values = df[column].isin([float('inf'), float('-inf')]).any()\n",
        "  print(\"Null values:\", null_values)\n",
        "  print(\"Infinite values:\", inf_values)\n",
        "\n",
        "from sklearn.preprocessing import StandardScaler\n",
        "\n",
        "def standard_scaler(df):\n",
        "  print(f'the dataframe is of shape{df.shape}')\n",
        "  numerical_columns = df.select_dtypes(include=['int', 'float']).columns\n",
        "  print(f'Number of numerical columns {len(numerical_columns.tolist())}')\n",
        "  scaler = StandardScaler()\n",
        "  df[numerical_columns] = scaler.fit_transform(df[numerical_columns])\n",
        "  return df\n",
        "\n",
        "def find_null_values(df):\n",
        "  null_values = df.isnull()\n",
        "  total_null_count = null_values.sum().sum()\n",
        "  print(\"Total null/NaN values:\", total_null_count)\n",
        "\n",
        "def find_rows_and_cols_with_null(df):\n",
        "  null_rows = df[df.isnull().any(axis=1)]\n",
        "  print(\"Rows with null/NaN values:\")\n",
        "  print(null_rows)\n",
        "\n",
        "  null_columns = df.columns[df.isnull().any()]\n",
        "  print(\"Columns with null/NaN values:\")\n",
        "  print(null_columns)"
      ],
      "metadata": {
        "id": "UIIxUe7osb0n"
      },
      "execution_count": 14,
      "outputs": []
    },
    {
      "cell_type": "code",
      "source": [
        "df.shape\n",
        "# remove title, body and address columns because they dont help us diffrent value for each sample and removing currecy and fee columns because they are constant\n",
        "# removing category as well because is is almost constant\n",
        "df = df.drop(['title', 'body', 'address', 'fee', 'currency', 'category'], axis=1)\n",
        "df = transform_to_numerical_columns(df, ['amenities', 'pets_allowed', 'price_type', 'cityname','state'])\n",
        "df.shape\n",
        "df.describe()\n",
        "df.head()"
      ],
      "metadata": {
        "colab": {
          "base_uri": "https://localhost:8080/",
          "height": 270
        },
        "id": "oSwGxoI0vk-5",
        "outputId": "106bba3b-7a98-4f92-fa90-9f546c063b1d"
      },
      "execution_count": 16,
      "outputs": [
        {
          "output_type": "stream",
          "name": "stderr",
          "text": [
            "/usr/local/lib/python3.10/dist-packages/sklearn/preprocessing/_encoders.py:868: FutureWarning: `sparse` was renamed to `sparse_output` in version 1.2 and will be removed in 1.4. `sparse_output` is ignored unless you leave `sparse` to its default value.\n",
            "  warnings.warn(\n"
          ]
        },
        {
          "output_type": "execute_result",
          "data": {
            "text/plain": [
              "           id  bathrooms  bedrooms  has_photo  price price_display  \\\n",
              "0  5668626895        NaN       0.0  Thumbnail    790          $790   \n",
              "1  5664597177        NaN       1.0  Thumbnail    425          $425   \n",
              "2  5668626833        1.0       0.0  Thumbnail   1390        $1,390   \n",
              "3  5659918074        1.0       0.0  Thumbnail    925          $925   \n",
              "4  5668626759        NaN       0.0  Thumbnail    880          $880   \n",
              "\n",
              "   square_feet  latitude  longitude     source  ...  state_TN  state_TX  \\\n",
              "0          101   38.9057   -76.9861  RentLingo  ...       0.0       0.0   \n",
              "1          106   37.9680   -87.6621  RentLingo  ...       0.0       0.0   \n",
              "2          107   38.8910   -77.0816  RentLingo  ...       0.0       0.0   \n",
              "3          116   47.6160  -122.3275  RentLingo  ...       0.0       0.0   \n",
              "4          125   38.8738   -77.1055  RentLingo  ...       0.0       0.0   \n",
              "\n",
              "   state_UT  state_VA  state_VT  state_WA  state_WI  state_WV  state_WY  \\\n",
              "0       0.0       0.0       0.0       0.0       0.0       0.0       0.0   \n",
              "1       0.0       0.0       0.0       0.0       0.0       0.0       0.0   \n",
              "2       0.0       1.0       0.0       0.0       0.0       0.0       0.0   \n",
              "3       0.0       0.0       0.0       1.0       0.0       0.0       0.0   \n",
              "4       0.0       1.0       0.0       0.0       0.0       0.0       0.0   \n",
              "\n",
              "   state_nan  \n",
              "0        0.0  \n",
              "1        0.0  \n",
              "2        0.0  \n",
              "3        0.0  \n",
              "4        0.0  \n",
              "\n",
              "[5 rows x 3901 columns]"
            ],
            "text/html": [
              "\n",
              "  <div id=\"df-af77bfe6-b70f-458c-a63c-108464b4e3b1\">\n",
              "    <div class=\"colab-df-container\">\n",
              "      <div>\n",
              "<style scoped>\n",
              "    .dataframe tbody tr th:only-of-type {\n",
              "        vertical-align: middle;\n",
              "    }\n",
              "\n",
              "    .dataframe tbody tr th {\n",
              "        vertical-align: top;\n",
              "    }\n",
              "\n",
              "    .dataframe thead th {\n",
              "        text-align: right;\n",
              "    }\n",
              "</style>\n",
              "<table border=\"1\" class=\"dataframe\">\n",
              "  <thead>\n",
              "    <tr style=\"text-align: right;\">\n",
              "      <th></th>\n",
              "      <th>id</th>\n",
              "      <th>bathrooms</th>\n",
              "      <th>bedrooms</th>\n",
              "      <th>has_photo</th>\n",
              "      <th>price</th>\n",
              "      <th>price_display</th>\n",
              "      <th>square_feet</th>\n",
              "      <th>latitude</th>\n",
              "      <th>longitude</th>\n",
              "      <th>source</th>\n",
              "      <th>...</th>\n",
              "      <th>state_TN</th>\n",
              "      <th>state_TX</th>\n",
              "      <th>state_UT</th>\n",
              "      <th>state_VA</th>\n",
              "      <th>state_VT</th>\n",
              "      <th>state_WA</th>\n",
              "      <th>state_WI</th>\n",
              "      <th>state_WV</th>\n",
              "      <th>state_WY</th>\n",
              "      <th>state_nan</th>\n",
              "    </tr>\n",
              "  </thead>\n",
              "  <tbody>\n",
              "    <tr>\n",
              "      <th>0</th>\n",
              "      <td>5668626895</td>\n",
              "      <td>NaN</td>\n",
              "      <td>0.0</td>\n",
              "      <td>Thumbnail</td>\n",
              "      <td>790</td>\n",
              "      <td>$790</td>\n",
              "      <td>101</td>\n",
              "      <td>38.9057</td>\n",
              "      <td>-76.9861</td>\n",
              "      <td>RentLingo</td>\n",
              "      <td>...</td>\n",
              "      <td>0.0</td>\n",
              "      <td>0.0</td>\n",
              "      <td>0.0</td>\n",
              "      <td>0.0</td>\n",
              "      <td>0.0</td>\n",
              "      <td>0.0</td>\n",
              "      <td>0.0</td>\n",
              "      <td>0.0</td>\n",
              "      <td>0.0</td>\n",
              "      <td>0.0</td>\n",
              "    </tr>\n",
              "    <tr>\n",
              "      <th>1</th>\n",
              "      <td>5664597177</td>\n",
              "      <td>NaN</td>\n",
              "      <td>1.0</td>\n",
              "      <td>Thumbnail</td>\n",
              "      <td>425</td>\n",
              "      <td>$425</td>\n",
              "      <td>106</td>\n",
              "      <td>37.9680</td>\n",
              "      <td>-87.6621</td>\n",
              "      <td>RentLingo</td>\n",
              "      <td>...</td>\n",
              "      <td>0.0</td>\n",
              "      <td>0.0</td>\n",
              "      <td>0.0</td>\n",
              "      <td>0.0</td>\n",
              "      <td>0.0</td>\n",
              "      <td>0.0</td>\n",
              "      <td>0.0</td>\n",
              "      <td>0.0</td>\n",
              "      <td>0.0</td>\n",
              "      <td>0.0</td>\n",
              "    </tr>\n",
              "    <tr>\n",
              "      <th>2</th>\n",
              "      <td>5668626833</td>\n",
              "      <td>1.0</td>\n",
              "      <td>0.0</td>\n",
              "      <td>Thumbnail</td>\n",
              "      <td>1390</td>\n",
              "      <td>$1,390</td>\n",
              "      <td>107</td>\n",
              "      <td>38.8910</td>\n",
              "      <td>-77.0816</td>\n",
              "      <td>RentLingo</td>\n",
              "      <td>...</td>\n",
              "      <td>0.0</td>\n",
              "      <td>0.0</td>\n",
              "      <td>0.0</td>\n",
              "      <td>1.0</td>\n",
              "      <td>0.0</td>\n",
              "      <td>0.0</td>\n",
              "      <td>0.0</td>\n",
              "      <td>0.0</td>\n",
              "      <td>0.0</td>\n",
              "      <td>0.0</td>\n",
              "    </tr>\n",
              "    <tr>\n",
              "      <th>3</th>\n",
              "      <td>5659918074</td>\n",
              "      <td>1.0</td>\n",
              "      <td>0.0</td>\n",
              "      <td>Thumbnail</td>\n",
              "      <td>925</td>\n",
              "      <td>$925</td>\n",
              "      <td>116</td>\n",
              "      <td>47.6160</td>\n",
              "      <td>-122.3275</td>\n",
              "      <td>RentLingo</td>\n",
              "      <td>...</td>\n",
              "      <td>0.0</td>\n",
              "      <td>0.0</td>\n",
              "      <td>0.0</td>\n",
              "      <td>0.0</td>\n",
              "      <td>0.0</td>\n",
              "      <td>1.0</td>\n",
              "      <td>0.0</td>\n",
              "      <td>0.0</td>\n",
              "      <td>0.0</td>\n",
              "      <td>0.0</td>\n",
              "    </tr>\n",
              "    <tr>\n",
              "      <th>4</th>\n",
              "      <td>5668626759</td>\n",
              "      <td>NaN</td>\n",
              "      <td>0.0</td>\n",
              "      <td>Thumbnail</td>\n",
              "      <td>880</td>\n",
              "      <td>$880</td>\n",
              "      <td>125</td>\n",
              "      <td>38.8738</td>\n",
              "      <td>-77.1055</td>\n",
              "      <td>RentLingo</td>\n",
              "      <td>...</td>\n",
              "      <td>0.0</td>\n",
              "      <td>0.0</td>\n",
              "      <td>0.0</td>\n",
              "      <td>1.0</td>\n",
              "      <td>0.0</td>\n",
              "      <td>0.0</td>\n",
              "      <td>0.0</td>\n",
              "      <td>0.0</td>\n",
              "      <td>0.0</td>\n",
              "      <td>0.0</td>\n",
              "    </tr>\n",
              "  </tbody>\n",
              "</table>\n",
              "<p>5 rows × 3901 columns</p>\n",
              "</div>\n",
              "      <button class=\"colab-df-convert\" onclick=\"convertToInteractive('df-af77bfe6-b70f-458c-a63c-108464b4e3b1')\"\n",
              "              title=\"Convert this dataframe to an interactive table.\"\n",
              "              style=\"display:none;\">\n",
              "        \n",
              "  <svg xmlns=\"http://www.w3.org/2000/svg\" height=\"24px\"viewBox=\"0 0 24 24\"\n",
              "       width=\"24px\">\n",
              "    <path d=\"M0 0h24v24H0V0z\" fill=\"none\"/>\n",
              "    <path d=\"M18.56 5.44l.94 2.06.94-2.06 2.06-.94-2.06-.94-.94-2.06-.94 2.06-2.06.94zm-11 1L8.5 8.5l.94-2.06 2.06-.94-2.06-.94L8.5 2.5l-.94 2.06-2.06.94zm10 10l.94 2.06.94-2.06 2.06-.94-2.06-.94-.94-2.06-.94 2.06-2.06.94z\"/><path d=\"M17.41 7.96l-1.37-1.37c-.4-.4-.92-.59-1.43-.59-.52 0-1.04.2-1.43.59L10.3 9.45l-7.72 7.72c-.78.78-.78 2.05 0 2.83L4 21.41c.39.39.9.59 1.41.59.51 0 1.02-.2 1.41-.59l7.78-7.78 2.81-2.81c.8-.78.8-2.07 0-2.86zM5.41 20L4 18.59l7.72-7.72 1.47 1.35L5.41 20z\"/>\n",
              "  </svg>\n",
              "      </button>\n",
              "      \n",
              "  <style>\n",
              "    .colab-df-container {\n",
              "      display:flex;\n",
              "      flex-wrap:wrap;\n",
              "      gap: 12px;\n",
              "    }\n",
              "\n",
              "    .colab-df-convert {\n",
              "      background-color: #E8F0FE;\n",
              "      border: none;\n",
              "      border-radius: 50%;\n",
              "      cursor: pointer;\n",
              "      display: none;\n",
              "      fill: #1967D2;\n",
              "      height: 32px;\n",
              "      padding: 0 0 0 0;\n",
              "      width: 32px;\n",
              "    }\n",
              "\n",
              "    .colab-df-convert:hover {\n",
              "      background-color: #E2EBFA;\n",
              "      box-shadow: 0px 1px 2px rgba(60, 64, 67, 0.3), 0px 1px 3px 1px rgba(60, 64, 67, 0.15);\n",
              "      fill: #174EA6;\n",
              "    }\n",
              "\n",
              "    [theme=dark] .colab-df-convert {\n",
              "      background-color: #3B4455;\n",
              "      fill: #D2E3FC;\n",
              "    }\n",
              "\n",
              "    [theme=dark] .colab-df-convert:hover {\n",
              "      background-color: #434B5C;\n",
              "      box-shadow: 0px 1px 3px 1px rgba(0, 0, 0, 0.15);\n",
              "      filter: drop-shadow(0px 1px 2px rgba(0, 0, 0, 0.3));\n",
              "      fill: #FFFFFF;\n",
              "    }\n",
              "  </style>\n",
              "\n",
              "      <script>\n",
              "        const buttonEl =\n",
              "          document.querySelector('#df-af77bfe6-b70f-458c-a63c-108464b4e3b1 button.colab-df-convert');\n",
              "        buttonEl.style.display =\n",
              "          google.colab.kernel.accessAllowed ? 'block' : 'none';\n",
              "\n",
              "        async function convertToInteractive(key) {\n",
              "          const element = document.querySelector('#df-af77bfe6-b70f-458c-a63c-108464b4e3b1');\n",
              "          const dataTable =\n",
              "            await google.colab.kernel.invokeFunction('convertToInteractive',\n",
              "                                                     [key], {});\n",
              "          if (!dataTable) return;\n",
              "\n",
              "          const docLinkHtml = 'Like what you see? Visit the ' +\n",
              "            '<a target=\"_blank\" href=https://colab.research.google.com/notebooks/data_table.ipynb>data table notebook</a>'\n",
              "            + ' to learn more about interactive tables.';\n",
              "          element.innerHTML = '';\n",
              "          dataTable['output_type'] = 'display_data';\n",
              "          await google.colab.output.renderOutput(dataTable, element);\n",
              "          const docLink = document.createElement('div');\n",
              "          docLink.innerHTML = docLinkHtml;\n",
              "          element.appendChild(docLink);\n",
              "        }\n",
              "      </script>\n",
              "    </div>\n",
              "  </div>\n",
              "  "
            ]
          },
          "metadata": {},
          "execution_count": 16
        }
      ]
    },
    {
      "cell_type": "code",
      "source": [
        "mapping = {'Yes': 1, 'Thumbnail': 1, 'No': 0}\n",
        "df = transform_column_mapping(df, {'has_photo': mapping} )"
      ],
      "metadata": {
        "colab": {
          "base_uri": "https://localhost:8080/"
        },
        "id": "mraQ_n_W9GZ3",
        "outputId": "23257bbb-207d-4b4a-ed72-b33127a479b3"
      },
      "execution_count": 17,
      "outputs": [
        {
          "output_type": "stream",
          "name": "stdout",
          "text": [
            "1    9816\n",
            "0     184\n",
            "Name: has_photo, dtype: int64\n"
          ]
        }
      ]
    },
    {
      "cell_type": "code",
      "source": [
        "find_object_columns(df)\n",
        "df['price_display'] = df['price_display'].str.replace(',','')\n",
        "df['price_display'] = df['price_display'].str.replace('$','')\n",
        "df['price_display'] = df['price_display'].str.replace('Weekly','')\n",
        "df['price_display'] = df['price_display'].str.replace('Monthly |','')\n",
        "df['price_display'] = df['price_display'].str.replace('Monthly|','')\n",
        "df['price_display'] = df['price_display'].str.replace('|','')\n",
        "df['price_display'] = df['price_display'].astype(int)\n",
        "unique_values_in_column(df, 'price_display')\n"
      ],
      "metadata": {
        "colab": {
          "base_uri": "https://localhost:8080/"
        },
        "id": "zlHUaKnTFFTt",
        "outputId": "b6c5b27c-340f-4694-bd8f-72964cd9c8ad"
      },
      "execution_count": 18,
      "outputs": [
        {
          "output_type": "stream",
          "name": "stdout",
          "text": [
            "['price_display', 'source']\n",
            "1350    86\n",
            "1250    81\n",
            "850     79\n",
            "1100    77\n",
            "1400    74\n",
            "        ..\n",
            "1667     1\n",
            "2053     1\n",
            "813      1\n",
            "1228     1\n",
            "4790     1\n",
            "Name: price_display, Length: 1725, dtype: int64\n"
          ]
        },
        {
          "output_type": "stream",
          "name": "stderr",
          "text": [
            "<ipython-input-18-a2e9200194fb>:3: FutureWarning: The default value of regex will change from True to False in a future version. In addition, single character regular expressions will *not* be treated as literal strings when regex=True.\n",
            "  df['price_display'] = df['price_display'].str.replace('$','')\n",
            "<ipython-input-18-a2e9200194fb>:5: FutureWarning: The default value of regex will change from True to False in a future version.\n",
            "  df['price_display'] = df['price_display'].str.replace('Monthly |','')\n",
            "<ipython-input-18-a2e9200194fb>:6: FutureWarning: The default value of regex will change from True to False in a future version.\n",
            "  df['price_display'] = df['price_display'].str.replace('Monthly|','')\n",
            "<ipython-input-18-a2e9200194fb>:7: FutureWarning: The default value of regex will change from True to False in a future version. In addition, single character regular expressions will *not* be treated as literal strings when regex=True.\n",
            "  df['price_display'] = df['price_display'].str.replace('|','')\n"
          ]
        }
      ]
    },
    {
      "cell_type": "code",
      "source": [
        "ground_truth = df.pop('source')\n",
        "df = standard_scaler(df)\n",
        "df['ground_truth'] = ground_truth\n",
        "df.head()"
      ],
      "metadata": {
        "colab": {
          "base_uri": "https://localhost:8080/",
          "height": 325
        },
        "id": "GQKAt1P0KLBB",
        "outputId": "373e6651-4b3b-4d20-9438-39185761410b"
      },
      "execution_count": 19,
      "outputs": [
        {
          "output_type": "stream",
          "name": "stdout",
          "text": [
            "the dataframe is of shape(10000, 3900)\n",
            "Number of numerical columns 3900\n"
          ]
        },
        {
          "output_type": "stream",
          "name": "stderr",
          "text": [
            "<ipython-input-19-45a543a5a410>:3: PerformanceWarning: DataFrame is highly fragmented.  This is usually the result of calling `frame.insert` many times, which has poor performance.  Consider joining all columns at once using pd.concat(axis=1) instead. To get a de-fragmented frame, use `newframe = frame.copy()`\n",
            "  df['ground_truth'] = ground_truth\n"
          ]
        },
        {
          "output_type": "execute_result",
          "data": {
            "text/plain": [
              "         id  bathrooms  bedrooms  has_photo     price  price_display  \\\n",
              "0  0.644258        NaN -1.850799   0.136912 -0.646825      -0.646825   \n",
              "1  0.586860        NaN -0.789574   0.136912 -0.985901      -0.985901   \n",
              "2  0.644257  -0.618389 -1.850799   0.136912 -0.089439      -0.089439   \n",
              "3  0.520212  -0.618389 -1.850799   0.136912 -0.521413      -0.521413   \n",
              "4  0.644256        NaN -1.850799   0.136912 -0.563217      -0.563217   \n",
              "\n",
              "   square_feet  latitude  longitude      time  ...  state_TX  state_UT  \\\n",
              "0    -1.288365  0.220275   1.121018  0.656062  ... -0.458491 -0.092039   \n",
              "1    -1.280740  0.049647   0.443565  0.565064  ... -0.458491 -0.092039   \n",
              "2    -1.279215  0.217600   1.114958  0.656060  ... -0.458491 -0.092039   \n",
              "3    -1.265489  1.805241  -1.756154  0.472214  ... -0.458491 -0.092039   \n",
              "4    -1.251764  0.214470   1.113442  0.656058  ... -0.458491 -0.092039   \n",
              "\n",
              "   state_VA  state_VT  state_WA  state_WI  state_WV  state_WY  state_nan  \\\n",
              "0 -0.144669 -0.040032 -0.233968 -0.176467 -0.017323 -0.010001  -0.088089   \n",
              "1 -0.144669 -0.040032 -0.233968 -0.176467 -0.017323 -0.010001  -0.088089   \n",
              "2  6.912343 -0.040032 -0.233968 -0.176467 -0.017323 -0.010001  -0.088089   \n",
              "3 -0.144669 -0.040032  4.274087 -0.176467 -0.017323 -0.010001  -0.088089   \n",
              "4  6.912343 -0.040032 -0.233968 -0.176467 -0.017323 -0.010001  -0.088089   \n",
              "\n",
              "   ground_truth  \n",
              "0     RentLingo  \n",
              "1     RentLingo  \n",
              "2     RentLingo  \n",
              "3     RentLingo  \n",
              "4     RentLingo  \n",
              "\n",
              "[5 rows x 3901 columns]"
            ],
            "text/html": [
              "\n",
              "  <div id=\"df-048565f7-83f7-48cf-8291-6159b2459290\">\n",
              "    <div class=\"colab-df-container\">\n",
              "      <div>\n",
              "<style scoped>\n",
              "    .dataframe tbody tr th:only-of-type {\n",
              "        vertical-align: middle;\n",
              "    }\n",
              "\n",
              "    .dataframe tbody tr th {\n",
              "        vertical-align: top;\n",
              "    }\n",
              "\n",
              "    .dataframe thead th {\n",
              "        text-align: right;\n",
              "    }\n",
              "</style>\n",
              "<table border=\"1\" class=\"dataframe\">\n",
              "  <thead>\n",
              "    <tr style=\"text-align: right;\">\n",
              "      <th></th>\n",
              "      <th>id</th>\n",
              "      <th>bathrooms</th>\n",
              "      <th>bedrooms</th>\n",
              "      <th>has_photo</th>\n",
              "      <th>price</th>\n",
              "      <th>price_display</th>\n",
              "      <th>square_feet</th>\n",
              "      <th>latitude</th>\n",
              "      <th>longitude</th>\n",
              "      <th>time</th>\n",
              "      <th>...</th>\n",
              "      <th>state_TX</th>\n",
              "      <th>state_UT</th>\n",
              "      <th>state_VA</th>\n",
              "      <th>state_VT</th>\n",
              "      <th>state_WA</th>\n",
              "      <th>state_WI</th>\n",
              "      <th>state_WV</th>\n",
              "      <th>state_WY</th>\n",
              "      <th>state_nan</th>\n",
              "      <th>ground_truth</th>\n",
              "    </tr>\n",
              "  </thead>\n",
              "  <tbody>\n",
              "    <tr>\n",
              "      <th>0</th>\n",
              "      <td>0.644258</td>\n",
              "      <td>NaN</td>\n",
              "      <td>-1.850799</td>\n",
              "      <td>0.136912</td>\n",
              "      <td>-0.646825</td>\n",
              "      <td>-0.646825</td>\n",
              "      <td>-1.288365</td>\n",
              "      <td>0.220275</td>\n",
              "      <td>1.121018</td>\n",
              "      <td>0.656062</td>\n",
              "      <td>...</td>\n",
              "      <td>-0.458491</td>\n",
              "      <td>-0.092039</td>\n",
              "      <td>-0.144669</td>\n",
              "      <td>-0.040032</td>\n",
              "      <td>-0.233968</td>\n",
              "      <td>-0.176467</td>\n",
              "      <td>-0.017323</td>\n",
              "      <td>-0.010001</td>\n",
              "      <td>-0.088089</td>\n",
              "      <td>RentLingo</td>\n",
              "    </tr>\n",
              "    <tr>\n",
              "      <th>1</th>\n",
              "      <td>0.586860</td>\n",
              "      <td>NaN</td>\n",
              "      <td>-0.789574</td>\n",
              "      <td>0.136912</td>\n",
              "      <td>-0.985901</td>\n",
              "      <td>-0.985901</td>\n",
              "      <td>-1.280740</td>\n",
              "      <td>0.049647</td>\n",
              "      <td>0.443565</td>\n",
              "      <td>0.565064</td>\n",
              "      <td>...</td>\n",
              "      <td>-0.458491</td>\n",
              "      <td>-0.092039</td>\n",
              "      <td>-0.144669</td>\n",
              "      <td>-0.040032</td>\n",
              "      <td>-0.233968</td>\n",
              "      <td>-0.176467</td>\n",
              "      <td>-0.017323</td>\n",
              "      <td>-0.010001</td>\n",
              "      <td>-0.088089</td>\n",
              "      <td>RentLingo</td>\n",
              "    </tr>\n",
              "    <tr>\n",
              "      <th>2</th>\n",
              "      <td>0.644257</td>\n",
              "      <td>-0.618389</td>\n",
              "      <td>-1.850799</td>\n",
              "      <td>0.136912</td>\n",
              "      <td>-0.089439</td>\n",
              "      <td>-0.089439</td>\n",
              "      <td>-1.279215</td>\n",
              "      <td>0.217600</td>\n",
              "      <td>1.114958</td>\n",
              "      <td>0.656060</td>\n",
              "      <td>...</td>\n",
              "      <td>-0.458491</td>\n",
              "      <td>-0.092039</td>\n",
              "      <td>6.912343</td>\n",
              "      <td>-0.040032</td>\n",
              "      <td>-0.233968</td>\n",
              "      <td>-0.176467</td>\n",
              "      <td>-0.017323</td>\n",
              "      <td>-0.010001</td>\n",
              "      <td>-0.088089</td>\n",
              "      <td>RentLingo</td>\n",
              "    </tr>\n",
              "    <tr>\n",
              "      <th>3</th>\n",
              "      <td>0.520212</td>\n",
              "      <td>-0.618389</td>\n",
              "      <td>-1.850799</td>\n",
              "      <td>0.136912</td>\n",
              "      <td>-0.521413</td>\n",
              "      <td>-0.521413</td>\n",
              "      <td>-1.265489</td>\n",
              "      <td>1.805241</td>\n",
              "      <td>-1.756154</td>\n",
              "      <td>0.472214</td>\n",
              "      <td>...</td>\n",
              "      <td>-0.458491</td>\n",
              "      <td>-0.092039</td>\n",
              "      <td>-0.144669</td>\n",
              "      <td>-0.040032</td>\n",
              "      <td>4.274087</td>\n",
              "      <td>-0.176467</td>\n",
              "      <td>-0.017323</td>\n",
              "      <td>-0.010001</td>\n",
              "      <td>-0.088089</td>\n",
              "      <td>RentLingo</td>\n",
              "    </tr>\n",
              "    <tr>\n",
              "      <th>4</th>\n",
              "      <td>0.644256</td>\n",
              "      <td>NaN</td>\n",
              "      <td>-1.850799</td>\n",
              "      <td>0.136912</td>\n",
              "      <td>-0.563217</td>\n",
              "      <td>-0.563217</td>\n",
              "      <td>-1.251764</td>\n",
              "      <td>0.214470</td>\n",
              "      <td>1.113442</td>\n",
              "      <td>0.656058</td>\n",
              "      <td>...</td>\n",
              "      <td>-0.458491</td>\n",
              "      <td>-0.092039</td>\n",
              "      <td>6.912343</td>\n",
              "      <td>-0.040032</td>\n",
              "      <td>-0.233968</td>\n",
              "      <td>-0.176467</td>\n",
              "      <td>-0.017323</td>\n",
              "      <td>-0.010001</td>\n",
              "      <td>-0.088089</td>\n",
              "      <td>RentLingo</td>\n",
              "    </tr>\n",
              "  </tbody>\n",
              "</table>\n",
              "<p>5 rows × 3901 columns</p>\n",
              "</div>\n",
              "      <button class=\"colab-df-convert\" onclick=\"convertToInteractive('df-048565f7-83f7-48cf-8291-6159b2459290')\"\n",
              "              title=\"Convert this dataframe to an interactive table.\"\n",
              "              style=\"display:none;\">\n",
              "        \n",
              "  <svg xmlns=\"http://www.w3.org/2000/svg\" height=\"24px\"viewBox=\"0 0 24 24\"\n",
              "       width=\"24px\">\n",
              "    <path d=\"M0 0h24v24H0V0z\" fill=\"none\"/>\n",
              "    <path d=\"M18.56 5.44l.94 2.06.94-2.06 2.06-.94-2.06-.94-.94-2.06-.94 2.06-2.06.94zm-11 1L8.5 8.5l.94-2.06 2.06-.94-2.06-.94L8.5 2.5l-.94 2.06-2.06.94zm10 10l.94 2.06.94-2.06 2.06-.94-2.06-.94-.94-2.06-.94 2.06-2.06.94z\"/><path d=\"M17.41 7.96l-1.37-1.37c-.4-.4-.92-.59-1.43-.59-.52 0-1.04.2-1.43.59L10.3 9.45l-7.72 7.72c-.78.78-.78 2.05 0 2.83L4 21.41c.39.39.9.59 1.41.59.51 0 1.02-.2 1.41-.59l7.78-7.78 2.81-2.81c.8-.78.8-2.07 0-2.86zM5.41 20L4 18.59l7.72-7.72 1.47 1.35L5.41 20z\"/>\n",
              "  </svg>\n",
              "      </button>\n",
              "      \n",
              "  <style>\n",
              "    .colab-df-container {\n",
              "      display:flex;\n",
              "      flex-wrap:wrap;\n",
              "      gap: 12px;\n",
              "    }\n",
              "\n",
              "    .colab-df-convert {\n",
              "      background-color: #E8F0FE;\n",
              "      border: none;\n",
              "      border-radius: 50%;\n",
              "      cursor: pointer;\n",
              "      display: none;\n",
              "      fill: #1967D2;\n",
              "      height: 32px;\n",
              "      padding: 0 0 0 0;\n",
              "      width: 32px;\n",
              "    }\n",
              "\n",
              "    .colab-df-convert:hover {\n",
              "      background-color: #E2EBFA;\n",
              "      box-shadow: 0px 1px 2px rgba(60, 64, 67, 0.3), 0px 1px 3px 1px rgba(60, 64, 67, 0.15);\n",
              "      fill: #174EA6;\n",
              "    }\n",
              "\n",
              "    [theme=dark] .colab-df-convert {\n",
              "      background-color: #3B4455;\n",
              "      fill: #D2E3FC;\n",
              "    }\n",
              "\n",
              "    [theme=dark] .colab-df-convert:hover {\n",
              "      background-color: #434B5C;\n",
              "      box-shadow: 0px 1px 3px 1px rgba(0, 0, 0, 0.15);\n",
              "      filter: drop-shadow(0px 1px 2px rgba(0, 0, 0, 0.3));\n",
              "      fill: #FFFFFF;\n",
              "    }\n",
              "  </style>\n",
              "\n",
              "      <script>\n",
              "        const buttonEl =\n",
              "          document.querySelector('#df-048565f7-83f7-48cf-8291-6159b2459290 button.colab-df-convert');\n",
              "        buttonEl.style.display =\n",
              "          google.colab.kernel.accessAllowed ? 'block' : 'none';\n",
              "\n",
              "        async function convertToInteractive(key) {\n",
              "          const element = document.querySelector('#df-048565f7-83f7-48cf-8291-6159b2459290');\n",
              "          const dataTable =\n",
              "            await google.colab.kernel.invokeFunction('convertToInteractive',\n",
              "                                                     [key], {});\n",
              "          if (!dataTable) return;\n",
              "\n",
              "          const docLinkHtml = 'Like what you see? Visit the ' +\n",
              "            '<a target=\"_blank\" href=https://colab.research.google.com/notebooks/data_table.ipynb>data table notebook</a>'\n",
              "            + ' to learn more about interactive tables.';\n",
              "          element.innerHTML = '';\n",
              "          dataTable['output_type'] = 'display_data';\n",
              "          await google.colab.output.renderOutput(dataTable, element);\n",
              "          const docLink = document.createElement('div');\n",
              "          docLink.innerHTML = docLinkHtml;\n",
              "          element.appendChild(docLink);\n",
              "        }\n",
              "      </script>\n",
              "    </div>\n",
              "  </div>\n",
              "  "
            ]
          },
          "metadata": {},
          "execution_count": 19
        }
      ]
    },
    {
      "cell_type": "code",
      "source": [
        "# find_null_values(df)\n",
        "# find_rows_and_cols_with_null(df)\n",
        "# unique_values_in_column(df, 'ground_truth')\n",
        "print(df.shape)\n",
        "df = df.dropna()\n",
        "print(df.shape)"
      ],
      "metadata": {
        "colab": {
          "base_uri": "https://localhost:8080/"
        },
        "id": "HizATbVkNu5A",
        "outputId": "a493db85-7a2a-445c-f86a-416e89919bb8"
      },
      "execution_count": 20,
      "outputs": [
        {
          "output_type": "stream",
          "name": "stdout",
          "text": [
            "(10000, 3901)\n",
            "(9950, 3901)\n"
          ]
        }
      ]
    },
    {
      "cell_type": "markdown",
      "source": [
        "# **3a & 3b: Selecting the optimal number of clusters**"
      ],
      "metadata": {
        "id": "8JKaX30YoK5p"
      }
    },
    {
      "cell_type": "code",
      "source": [
        "num_of_clusters = df['ground_truth'].unique()\n",
        "len(num_of_clusters)"
      ],
      "metadata": {
        "colab": {
          "base_uri": "https://localhost:8080/"
        },
        "id": "hEzwwNanr1lc",
        "outputId": "c7330f27-32ac-495f-ddfb-01f21d1b5463"
      },
      "execution_count": 23,
      "outputs": [
        {
          "output_type": "execute_result",
          "data": {
            "text/plain": [
              "12"
            ]
          },
          "metadata": {},
          "execution_count": 23
        }
      ]
    }
  ]
}